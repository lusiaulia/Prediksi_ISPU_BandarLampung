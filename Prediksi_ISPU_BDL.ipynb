{
  "cells": [
    {
      "cell_type": "markdown",
      "metadata": {
        "id": "view-in-github",
        "colab_type": "text"
      },
      "source": [
        "<a href=\"https://colab.research.google.com/github/lusiaulia/Prediksi_ISPU_BandarLampung/blob/main/Prediksi_ISPU_BDL.ipynb\" target=\"_parent\"><img src=\"https://colab.research.google.com/assets/colab-badge.svg\" alt=\"Open In Colab\"/></a>"
      ]
    },
    {
      "cell_type": "code",
      "execution_count": null,
      "metadata": {
        "id": "pwaZURpQEozs"
      },
      "outputs": [],
      "source": [
        "# Import library yang diperlukan\n",
        "import pandas as pd\n",
        "import numpy as np\n",
        "from numpy import array\n",
        "import matplotlib as mpl\n",
        "import matplotlib.pyplot as plt\n",
        "import seaborn as sns\n",
        "from sklearn.preprocessing import MinMaxScaler\n",
        "import tensorflow as tf\n",
        "from tensorflow.keras import optimizers\n",
        "from keras.models import Sequential\n",
        "from keras.layers import LSTM, Dense, RepeatVector, TimeDistributed\n",
        "from sklearn.metrics import mean_squared_error,  mean_absolute_error, mean_absolute_percentage_error"
      ]
    },
    {
      "cell_type": "code",
      "execution_count": null,
      "metadata": {
        "colab": {
          "base_uri": "https://localhost:8080/",
          "height": 443
        },
        "id": "ZaW-kbRWG6yY",
        "outputId": "80258eee-1391-4835-cfc1-102637b0119f"
      },
      "outputs": [
        {
          "name": "stdout",
          "output_type": "stream",
          "text": [
            "Cloning into 'Prediksi_ISPU_BandarLampung'...\n",
            "remote: Enumerating objects: 85, done.\u001b[K\n",
            "remote: Counting objects: 100% (11/11), done.\u001b[K\n",
            "remote: Compressing objects: 100% (11/11), done.\u001b[K\n",
            "remote: Total 85 (delta 3), reused 0 (delta 0), pack-reused 74\u001b[K\n",
            "Receiving objects: 100% (85/85), 5.40 MiB | 7.08 MiB/s, done.\n",
            "Resolving deltas: 100% (22/22), done.\n"
          ]
        },
        {
          "data": {
            "text/html": [
              "\n",
              "  <div id=\"df-b94e1b56-a572-4193-8208-72074bfa56b8\" class=\"colab-df-container\">\n",
              "    <div>\n",
              "<style scoped>\n",
              "    .dataframe tbody tr th:only-of-type {\n",
              "        vertical-align: middle;\n",
              "    }\n",
              "\n",
              "    .dataframe tbody tr th {\n",
              "        vertical-align: top;\n",
              "    }\n",
              "\n",
              "    .dataframe thead th {\n",
              "        text-align: right;\n",
              "    }\n",
              "</style>\n",
              "<table border=\"1\" class=\"dataframe\">\n",
              "  <thead>\n",
              "    <tr style=\"text-align: right;\">\n",
              "      <th></th>\n",
              "      <th>pm10</th>\n",
              "      <th>pm25</th>\n",
              "      <th>o3</th>\n",
              "      <th>so2</th>\n",
              "      <th>no2</th>\n",
              "      <th>co</th>\n",
              "      <th>rh</th>\n",
              "      <th>temp</th>\n",
              "      <th>wind_spd</th>\n",
              "    </tr>\n",
              "  </thead>\n",
              "  <tbody>\n",
              "    <tr>\n",
              "      <th>count</th>\n",
              "      <td>5872.000000</td>\n",
              "      <td>5875.000000</td>\n",
              "      <td>5872.000000</td>\n",
              "      <td>5854.000000</td>\n",
              "      <td>5869.000000</td>\n",
              "      <td>5866.000000</td>\n",
              "      <td>5880.000000</td>\n",
              "      <td>5880.000000</td>\n",
              "      <td>5880.000000</td>\n",
              "    </tr>\n",
              "    <tr>\n",
              "      <th>mean</th>\n",
              "      <td>49.252256</td>\n",
              "      <td>41.987779</td>\n",
              "      <td>24.631480</td>\n",
              "      <td>2.201384</td>\n",
              "      <td>6.470257</td>\n",
              "      <td>794.071741</td>\n",
              "      <td>80.679932</td>\n",
              "      <td>26.564201</td>\n",
              "      <td>1.885861</td>\n",
              "    </tr>\n",
              "    <tr>\n",
              "      <th>std</th>\n",
              "      <td>40.401458</td>\n",
              "      <td>37.663592</td>\n",
              "      <td>23.824031</td>\n",
              "      <td>1.695862</td>\n",
              "      <td>3.817150</td>\n",
              "      <td>364.903872</td>\n",
              "      <td>11.849970</td>\n",
              "      <td>2.808715</td>\n",
              "      <td>1.192324</td>\n",
              "    </tr>\n",
              "    <tr>\n",
              "      <th>min</th>\n",
              "      <td>1.980000</td>\n",
              "      <td>1.090000</td>\n",
              "      <td>0.000000</td>\n",
              "      <td>0.000000</td>\n",
              "      <td>0.000000</td>\n",
              "      <td>0.000000</td>\n",
              "      <td>41.000000</td>\n",
              "      <td>21.400000</td>\n",
              "      <td>0.000000</td>\n",
              "    </tr>\n",
              "    <tr>\n",
              "      <th>25%</th>\n",
              "      <td>18.465000</td>\n",
              "      <td>13.240000</td>\n",
              "      <td>7.187500</td>\n",
              "      <td>1.100000</td>\n",
              "      <td>3.710000</td>\n",
              "      <td>505.520000</td>\n",
              "      <td>72.000000</td>\n",
              "      <td>24.200000</td>\n",
              "      <td>1.080000</td>\n",
              "    </tr>\n",
              "    <tr>\n",
              "      <th>50%</th>\n",
              "      <td>38.465000</td>\n",
              "      <td>30.860000</td>\n",
              "      <td>17.490000</td>\n",
              "      <td>1.680000</td>\n",
              "      <td>5.990000</td>\n",
              "      <td>747.560000</td>\n",
              "      <td>84.000000</td>\n",
              "      <td>25.900000</td>\n",
              "      <td>1.600000</td>\n",
              "    </tr>\n",
              "    <tr>\n",
              "      <th>75%</th>\n",
              "      <td>68.225000</td>\n",
              "      <td>58.130000</td>\n",
              "      <td>34.017500</td>\n",
              "      <td>2.747500</td>\n",
              "      <td>8.330000</td>\n",
              "      <td>1025.352500</td>\n",
              "      <td>90.000000</td>\n",
              "      <td>28.800000</td>\n",
              "      <td>2.400000</td>\n",
              "    </tr>\n",
              "    <tr>\n",
              "      <th>max</th>\n",
              "      <td>250.290000</td>\n",
              "      <td>226.020000</td>\n",
              "      <td>161.760000</td>\n",
              "      <td>14.130000</td>\n",
              "      <td>49.270000</td>\n",
              "      <td>2247.930000</td>\n",
              "      <td>100.000000</td>\n",
              "      <td>34.300000</td>\n",
              "      <td>22.100000</td>\n",
              "    </tr>\n",
              "  </tbody>\n",
              "</table>\n",
              "</div>\n",
              "    <div class=\"colab-df-buttons\">\n",
              "\n",
              "  <div class=\"colab-df-container\">\n",
              "    <button class=\"colab-df-convert\" onclick=\"convertToInteractive('df-b94e1b56-a572-4193-8208-72074bfa56b8')\"\n",
              "            title=\"Convert this dataframe to an interactive table.\"\n",
              "            style=\"display:none;\">\n",
              "\n",
              "  <svg xmlns=\"http://www.w3.org/2000/svg\" height=\"24px\" viewBox=\"0 -960 960 960\">\n",
              "    <path d=\"M120-120v-720h720v720H120Zm60-500h600v-160H180v160Zm220 220h160v-160H400v160Zm0 220h160v-160H400v160ZM180-400h160v-160H180v160Zm440 0h160v-160H620v160ZM180-180h160v-160H180v160Zm440 0h160v-160H620v160Z\"/>\n",
              "  </svg>\n",
              "    </button>\n",
              "\n",
              "  <style>\n",
              "    .colab-df-container {\n",
              "      display:flex;\n",
              "      gap: 12px;\n",
              "    }\n",
              "\n",
              "    .colab-df-convert {\n",
              "      background-color: #E8F0FE;\n",
              "      border: none;\n",
              "      border-radius: 50%;\n",
              "      cursor: pointer;\n",
              "      display: none;\n",
              "      fill: #1967D2;\n",
              "      height: 32px;\n",
              "      padding: 0 0 0 0;\n",
              "      width: 32px;\n",
              "    }\n",
              "\n",
              "    .colab-df-convert:hover {\n",
              "      background-color: #E2EBFA;\n",
              "      box-shadow: 0px 1px 2px rgba(60, 64, 67, 0.3), 0px 1px 3px 1px rgba(60, 64, 67, 0.15);\n",
              "      fill: #174EA6;\n",
              "    }\n",
              "\n",
              "    .colab-df-buttons div {\n",
              "      margin-bottom: 4px;\n",
              "    }\n",
              "\n",
              "    [theme=dark] .colab-df-convert {\n",
              "      background-color: #3B4455;\n",
              "      fill: #D2E3FC;\n",
              "    }\n",
              "\n",
              "    [theme=dark] .colab-df-convert:hover {\n",
              "      background-color: #434B5C;\n",
              "      box-shadow: 0px 1px 3px 1px rgba(0, 0, 0, 0.15);\n",
              "      filter: drop-shadow(0px 1px 2px rgba(0, 0, 0, 0.3));\n",
              "      fill: #FFFFFF;\n",
              "    }\n",
              "  </style>\n",
              "\n",
              "    <script>\n",
              "      const buttonEl =\n",
              "        document.querySelector('#df-b94e1b56-a572-4193-8208-72074bfa56b8 button.colab-df-convert');\n",
              "      buttonEl.style.display =\n",
              "        google.colab.kernel.accessAllowed ? 'block' : 'none';\n",
              "\n",
              "      async function convertToInteractive(key) {\n",
              "        const element = document.querySelector('#df-b94e1b56-a572-4193-8208-72074bfa56b8');\n",
              "        const dataTable =\n",
              "          await google.colab.kernel.invokeFunction('convertToInteractive',\n",
              "                                                    [key], {});\n",
              "        if (!dataTable) return;\n",
              "\n",
              "        const docLinkHtml = 'Like what you see? Visit the ' +\n",
              "          '<a target=\"_blank\" href=https://colab.research.google.com/notebooks/data_table.ipynb>data table notebook</a>'\n",
              "          + ' to learn more about interactive tables.';\n",
              "        element.innerHTML = '';\n",
              "        dataTable['output_type'] = 'display_data';\n",
              "        await google.colab.output.renderOutput(dataTable, element);\n",
              "        const docLink = document.createElement('div');\n",
              "        docLink.innerHTML = docLinkHtml;\n",
              "        element.appendChild(docLink);\n",
              "      }\n",
              "    </script>\n",
              "  </div>\n",
              "\n",
              "\n",
              "<div id=\"df-0d795d83-63b2-451d-98db-c45556357ebf\">\n",
              "  <button class=\"colab-df-quickchart\" onclick=\"quickchart('df-0d795d83-63b2-451d-98db-c45556357ebf')\"\n",
              "            title=\"Suggest charts\"\n",
              "            style=\"display:none;\">\n",
              "\n",
              "<svg xmlns=\"http://www.w3.org/2000/svg\" height=\"24px\"viewBox=\"0 0 24 24\"\n",
              "     width=\"24px\">\n",
              "    <g>\n",
              "        <path d=\"M19 3H5c-1.1 0-2 .9-2 2v14c0 1.1.9 2 2 2h14c1.1 0 2-.9 2-2V5c0-1.1-.9-2-2-2zM9 17H7v-7h2v7zm4 0h-2V7h2v10zm4 0h-2v-4h2v4z\"/>\n",
              "    </g>\n",
              "</svg>\n",
              "  </button>\n",
              "\n",
              "<style>\n",
              "  .colab-df-quickchart {\n",
              "      --bg-color: #E8F0FE;\n",
              "      --fill-color: #1967D2;\n",
              "      --hover-bg-color: #E2EBFA;\n",
              "      --hover-fill-color: #174EA6;\n",
              "      --disabled-fill-color: #AAA;\n",
              "      --disabled-bg-color: #DDD;\n",
              "  }\n",
              "\n",
              "  [theme=dark] .colab-df-quickchart {\n",
              "      --bg-color: #3B4455;\n",
              "      --fill-color: #D2E3FC;\n",
              "      --hover-bg-color: #434B5C;\n",
              "      --hover-fill-color: #FFFFFF;\n",
              "      --disabled-bg-color: #3B4455;\n",
              "      --disabled-fill-color: #666;\n",
              "  }\n",
              "\n",
              "  .colab-df-quickchart {\n",
              "    background-color: var(--bg-color);\n",
              "    border: none;\n",
              "    border-radius: 50%;\n",
              "    cursor: pointer;\n",
              "    display: none;\n",
              "    fill: var(--fill-color);\n",
              "    height: 32px;\n",
              "    padding: 0;\n",
              "    width: 32px;\n",
              "  }\n",
              "\n",
              "  .colab-df-quickchart:hover {\n",
              "    background-color: var(--hover-bg-color);\n",
              "    box-shadow: 0 1px 2px rgba(60, 64, 67, 0.3), 0 1px 3px 1px rgba(60, 64, 67, 0.15);\n",
              "    fill: var(--button-hover-fill-color);\n",
              "  }\n",
              "\n",
              "  .colab-df-quickchart-complete:disabled,\n",
              "  .colab-df-quickchart-complete:disabled:hover {\n",
              "    background-color: var(--disabled-bg-color);\n",
              "    fill: var(--disabled-fill-color);\n",
              "    box-shadow: none;\n",
              "  }\n",
              "\n",
              "  .colab-df-spinner {\n",
              "    border: 2px solid var(--fill-color);\n",
              "    border-color: transparent;\n",
              "    border-bottom-color: var(--fill-color);\n",
              "    animation:\n",
              "      spin 1s steps(1) infinite;\n",
              "  }\n",
              "\n",
              "  @keyframes spin {\n",
              "    0% {\n",
              "      border-color: transparent;\n",
              "      border-bottom-color: var(--fill-color);\n",
              "      border-left-color: var(--fill-color);\n",
              "    }\n",
              "    20% {\n",
              "      border-color: transparent;\n",
              "      border-left-color: var(--fill-color);\n",
              "      border-top-color: var(--fill-color);\n",
              "    }\n",
              "    30% {\n",
              "      border-color: transparent;\n",
              "      border-left-color: var(--fill-color);\n",
              "      border-top-color: var(--fill-color);\n",
              "      border-right-color: var(--fill-color);\n",
              "    }\n",
              "    40% {\n",
              "      border-color: transparent;\n",
              "      border-right-color: var(--fill-color);\n",
              "      border-top-color: var(--fill-color);\n",
              "    }\n",
              "    60% {\n",
              "      border-color: transparent;\n",
              "      border-right-color: var(--fill-color);\n",
              "    }\n",
              "    80% {\n",
              "      border-color: transparent;\n",
              "      border-right-color: var(--fill-color);\n",
              "      border-bottom-color: var(--fill-color);\n",
              "    }\n",
              "    90% {\n",
              "      border-color: transparent;\n",
              "      border-bottom-color: var(--fill-color);\n",
              "    }\n",
              "  }\n",
              "</style>\n",
              "\n",
              "  <script>\n",
              "    async function quickchart(key) {\n",
              "      const quickchartButtonEl =\n",
              "        document.querySelector('#' + key + ' button');\n",
              "      quickchartButtonEl.disabled = true;  // To prevent multiple clicks.\n",
              "      quickchartButtonEl.classList.add('colab-df-spinner');\n",
              "      try {\n",
              "        const charts = await google.colab.kernel.invokeFunction(\n",
              "            'suggestCharts', [key], {});\n",
              "      } catch (error) {\n",
              "        console.error('Error during call to suggestCharts:', error);\n",
              "      }\n",
              "      quickchartButtonEl.classList.remove('colab-df-spinner');\n",
              "      quickchartButtonEl.classList.add('colab-df-quickchart-complete');\n",
              "    }\n",
              "    (() => {\n",
              "      let quickchartButtonEl =\n",
              "        document.querySelector('#df-0d795d83-63b2-451d-98db-c45556357ebf button');\n",
              "      quickchartButtonEl.style.display =\n",
              "        google.colab.kernel.accessAllowed ? 'block' : 'none';\n",
              "    })();\n",
              "  </script>\n",
              "</div>\n",
              "    </div>\n",
              "  </div>\n"
            ],
            "text/plain": [
              "              pm10         pm25           o3          so2          no2  \\\n",
              "count  5872.000000  5875.000000  5872.000000  5854.000000  5869.000000   \n",
              "mean     49.252256    41.987779    24.631480     2.201384     6.470257   \n",
              "std      40.401458    37.663592    23.824031     1.695862     3.817150   \n",
              "min       1.980000     1.090000     0.000000     0.000000     0.000000   \n",
              "25%      18.465000    13.240000     7.187500     1.100000     3.710000   \n",
              "50%      38.465000    30.860000    17.490000     1.680000     5.990000   \n",
              "75%      68.225000    58.130000    34.017500     2.747500     8.330000   \n",
              "max     250.290000   226.020000   161.760000    14.130000    49.270000   \n",
              "\n",
              "                co           rh         temp     wind_spd  \n",
              "count  5866.000000  5880.000000  5880.000000  5880.000000  \n",
              "mean    794.071741    80.679932    26.564201     1.885861  \n",
              "std     364.903872    11.849970     2.808715     1.192324  \n",
              "min       0.000000    41.000000    21.400000     0.000000  \n",
              "25%     505.520000    72.000000    24.200000     1.080000  \n",
              "50%     747.560000    84.000000    25.900000     1.600000  \n",
              "75%    1025.352500    90.000000    28.800000     2.400000  \n",
              "max    2247.930000   100.000000    34.300000    22.100000  "
            ]
          },
          "execution_count": 2,
          "metadata": {},
          "output_type": "execute_result"
        }
      ],
      "source": [
        "# Clone dataset dari github\n",
        "!git clone https://github.com/lusiaulia/Prediksi_ISPU_BandarLampung.git\n",
        "# mendefinisikan dataframe\n",
        "df = pd.read_excel(\"/content/Prediksi_ISPU_BandarLampung/Data/AQI_BDL_Maret-Okt.xlsx\") #Data penyusun ISPU\n",
        "dw = pd.read_excel(\"/content/Prediksi_ISPU_BandarLampung/Data/Weather_BDL_Maret-Okt.xlsx\") #Data meteorologi\n",
        "d_test = pd.read_excel(\"/content/Prediksi_ISPU_BandarLampung/Data/AQI_BDL_Nov.xlsx\") #Data penyusun ISPU untuk test\n",
        "dw_test = pd.read_excel(\"/content/Prediksi_ISPU_BandarLampung/Data/Weather_BDL_Nov.xlsx\")#Data meteorologi untuk test\n",
        "#Mengurangi kolom yang tidak diperlukan\n",
        "df = df.drop(['Unnamed: 0'],axis=1)\n",
        "d_test = d_test.drop(['Unnamed: 0'],axis=1)\n",
        "#Menyatukan kolom\n",
        "df['rh'] = dw['rh']\n",
        "df['temp'] = dw['temp']\n",
        "df['wind_spd'] = dw['wind_spd']\n",
        "d_test['rh'] = dw_test['rh']\n",
        "d_test['temp'] = dw_test['temp']\n",
        "d_test['wind_spd'] = dw_test['wind_spd']\n",
        "df.describe()"
      ]
    },
    {
      "cell_type": "markdown",
      "metadata": {
        "id": "GtAHEIPBJF27"
      },
      "source": [
        "Berikut di atas merupakan statistik deskriptif dari data parameter ISPU dan data meteorologi."
      ]
    },
    {
      "cell_type": "code",
      "execution_count": null,
      "metadata": {
        "colab": {
          "base_uri": "https://localhost:8080/"
        },
        "id": "_-A5kKmSne6I",
        "outputId": "0e33dc0c-473c-4322-c6eb-0484cde779d3"
      },
      "outputs": [
        {
          "name": "stdout",
          "output_type": "stream",
          "text": [
            "<class 'pandas.core.frame.DataFrame'>\n",
            "RangeIndex: 5880 entries, 0 to 5879\n",
            "Data columns (total 10 columns):\n",
            " #   Column    Non-Null Count  Dtype         \n",
            "---  ------    --------------  -----         \n",
            " 0   datetime  5880 non-null   datetime64[ns]\n",
            " 1   pm10      5872 non-null   float64       \n",
            " 2   pm25      5875 non-null   float64       \n",
            " 3   o3        5872 non-null   float64       \n",
            " 4   so2       5854 non-null   float64       \n",
            " 5   no2       5869 non-null   float64       \n",
            " 6   co        5866 non-null   float64       \n",
            " 7   rh        5880 non-null   int64         \n",
            " 8   temp      5880 non-null   float64       \n",
            " 9   wind_spd  5880 non-null   float64       \n",
            "dtypes: datetime64[ns](1), float64(8), int64(1)\n",
            "memory usage: 459.5 KB\n"
          ]
        }
      ],
      "source": [
        "df.info()"
      ]
    },
    {
      "cell_type": "code",
      "execution_count": null,
      "metadata": {
        "colab": {
          "base_uri": "https://localhost:8080/",
          "height": 208
        },
        "id": "AaXMT_VEruX0",
        "outputId": "156626f8-09a6-440b-db48-c05bee0c1be3"
      },
      "outputs": [
        {
          "data": {
            "text/plain": [
              "<Axes: >"
            ]
          },
          "execution_count": 4,
          "metadata": {},
          "output_type": "execute_result"
        },
        {
          "data": {
            "image/png": "[encoded data removed]",
            "text/plain": [
              "<Figure size 1200x600 with 1 Axes>"
            ]
          },
          "metadata": {},
          "output_type": "display_data"
        }
      ],
      "source": [
        "df_time = df[\"datetime\"]\n",
        "df = df.drop(['datetime'],axis=1)\n",
        "# Plot null data\n",
        "mpl.rcParams['figure.figsize'] = (12, 6)\n",
        "sns.heatmap(df.isnull(),cbar=False,cmap='viridis')"
      ]
    },
    {
      "cell_type": "code",
      "execution_count": null,
      "metadata": {
        "colab": {
          "base_uri": "https://localhost:8080/"
        },
        "id": "9mr9TKwH2cfP",
        "outputId": "2e857d4a-4725-49ad-d46c-4a6de187d25f"
      },
      "outputs": [
        {
          "name": "stdout",
          "output_type": "stream",
          "text": [
            "pm10         8\n",
            "pm25         5\n",
            "o3           8\n",
            "so2         26\n",
            "no2         11\n",
            "co          14\n",
            "rh           0\n",
            "temp         0\n",
            "wind_spd     0\n",
            "dtype: int64\n",
            "shape: (5880, 9)\n"
          ]
        }
      ],
      "source": [
        "# Total null data\n",
        "print(df.isnull().sum())\n",
        "print('shape:', df.shape)"
      ]
    },
    {
      "cell_type": "markdown",
      "metadata": {
        "id": "WCaN1Eutatwi"
      },
      "source": [
        "Tidak ada data kosong pada data meteorologi"
      ]
    },
    {
      "cell_type": "code",
      "execution_count": null,
      "metadata": {
        "id": "CJfy53proQrw"
      },
      "outputs": [],
      "source": [
        "indicator = ['pm10','pm25','o3','so2','no2','co','rh','temp','wind_spd']\n",
        "# #[1] Menghapus Data Kosong\n",
        "# df.dropna(inplace=True)\n",
        "\n",
        "#[2]Mengisi Data Kosong dengan Nilai Mean\n",
        "for i in indicator :\n",
        "  mean = df[i].mean()\n",
        "  df[i] = df[i].replace(np.nan, mean)\n",
        "\n",
        "# #[3] Mengisi Data Kosong dengan Nilai Median\n",
        "# for i in indicator :\n",
        "#   median = df[i].median()\n",
        "#   df[i] = df[i].replace(np.nan, median)\n",
        "\n",
        "# #[4] Mengisi Data Kosong dengan Nilai 0\n",
        "# for i in indicator:\n",
        "#   df[i] = df[i].replace(np.nan, 0)"
      ]
    },
    {
      "cell_type": "code",
      "execution_count": null,
      "metadata": {
        "colab": {
          "base_uri": "https://localhost:8080/",
          "height": 208
        },
        "id": "DBkw_6FwJ20j",
        "outputId": "ed8d77ed-7317-4be0-b45c-d1daaf23a422"
      },
      "outputs": [
        {
          "data": {
            "text/plain": [
              "<Axes: >"
            ]
          },
          "execution_count": 7,
          "metadata": {},
          "output_type": "execute_result"
        },
        {
          "data": {
            "image/png": "[encoded data removed]",
            "text/plain": [
              "<Figure size 1200x600 with 1 Axes>"
            ]
          },
          "metadata": {},
          "output_type": "display_data"
        }
      ],
      "source": [
        "#Visualisasi Heatmap Setelah Pengisian Data Kosong\n",
        "mpl.rcParams['figure.figsize'] = (12, 6)\n",
        "sns.heatmap(df.isnull(),cbar=False,cmap='viridis')"
      ]
    },
    {
      "cell_type": "code",
      "execution_count": null,
      "metadata": {
        "id": "NpM9U7BETBCI"
      },
      "outputs": [],
      "source": [
        "df = df[indicator]"
      ]
    },
    {
      "cell_type": "markdown",
      "metadata": {
        "id": "9fC1jKMqVYzv"
      },
      "source": [
        "Sekarang kita lihat apakah ada outliers. Outlier harus kita antisipasi karena outlier dapat meningkatkan nilai error dan bias, khususnya saat\n",
        "kita menerapkan uji statistik pada data. Saat kita memiliki banyak data dan sedikit outlier, Sampel lain tidak akan dirugikan dengan\n",
        "menghapus outlier yang meragukan."
      ]
    },
    {
      "cell_type": "code",
      "execution_count": null,
      "metadata": {
        "colab": {
          "base_uri": "https://localhost:8080/"
        },
        "id": "bwleAO-qUCHj",
        "outputId": "84d5ae02-76e3-47d2-a960-87da0386005e"
      },
      "outputs": [
        {
          "name": "stdout",
          "output_type": "stream",
          "text": [
            " Outlier pm10 sebesar 3% atau 199 outliers dari total 5880 data\n",
            " Outlier pm25 sebesar 4% atau 243 outliers dari total 5880 data\n",
            " Outlier o3 sebesar 5% atau 303 outliers dari total 5880 data\n",
            " Outlier so2 sebesar 6% atau 344 outliers dari total 5880 data\n",
            " Outlier no2 sebesar 3% atau 154 outliers dari total 5880 data\n",
            " Outlier co sebesar 1% atau 55 outliers dari total 5880 data\n",
            " Outlier rh sebesar 0% atau 8 outliers dari total 5880 data\n",
            " Outlier temp sebesar 0% atau 0 outliers dari total 5880 data\n",
            " Outlier wind_spd sebesar 3% atau 199 outliers dari total 5880 data\n"
          ]
        }
      ],
      "source": [
        "def get_outliers(df):\n",
        "    # Menghitung pessentile 25 dan 75\n",
        "    p75 = df.quantile(0.75)\n",
        "    p25 = df.quantile(0.25)\n",
        "    # Menghitung IQR dengan selisih persentil 75 dan 25\n",
        "    iqr = p75 - p25\n",
        "    min_val = p25 - 1.5*iqr\n",
        "    max_val = p75 + 1.5*iqr\n",
        "\n",
        "    # Apapun dibawah minimum atau diatas maximum, disebut sebagai outlier\n",
        "    outliers = df[(df < min_val) | (df > max_val)]\n",
        "    return outliers\n",
        "\n",
        "def replace_outliers(df,ds): #untuk mengganti nilai outlier\n",
        "  m = df.mean()\n",
        "  for x in df:\n",
        "    for i in ds:\n",
        "      if x == i:\n",
        "        df = df.replace(x,m)\n",
        "  return df\n",
        "\n",
        "for i in indicator :#menghitung jumlah outlier yang ada\n",
        "  print(f\" Outlier {i} sebesar {round((len(get_outliers(df[i]))/len(df[i]))*100)}% atau {len(get_outliers(df[i]))} outliers dari total {len(df[i])} data\")"
      ]
    },
    {
      "cell_type": "markdown",
      "metadata": {
        "id": "7g7i5kxCVIbY"
      },
      "source": [
        "Nilai outlier dari masing masing data semuanya memiliki presentase yang sedikit sehingga tidak perlu dilakukan penggantian nilai atau penghapusan outlier. Sekarang kita cek untuk korelasi."
      ]
    },
    {
      "cell_type": "markdown",
      "metadata": {
        "id": "uhb3TAJfkm4X"
      },
      "source": [
        "Waktunya untuk cek korelasinya. Korelasi memiliki rentang sebagai berikut :\n",
        "*   0 : Tidak ada korelasi antar variabel\n",
        "*   0-0.25 : Korelasi sangat lemah\n",
        "*   0.25-0.5 : Korelasi cukup\n",
        "*   0.5-0.75 : Korelasi kuat\n",
        "*   1 : Korelasi hubungan sempurna positif\n",
        "*  -1 : Korelasi hubungan sempurna negatif\n",
        "\n",
        "\n",
        "\n",
        "\n",
        "\n",
        "\n"
      ]
    },
    {
      "cell_type": "markdown",
      "metadata": {
        "id": "dRhWQEXloKfP"
      },
      "source": [
        "\n",
        "\n",
        "o3 memiliki korelasi sangat rendah (perbaikan : tidak baik jika diprediksi bersamaan dengan pm10, co, pm25, no2, dan so2)"
      ]
    },
    {
      "cell_type": "code",
      "execution_count": null,
      "metadata": {
        "colab": {
          "base_uri": "https://localhost:8080/"
        },
        "id": "WyCFq499rFnp",
        "outputId": "67aa95d0-f89a-48b6-d4d4-7a3fca620060"
      },
      "outputs": [
        {
          "name": "stdout",
          "output_type": "stream",
          "text": [
            "Data for train: (4704, 9)\n",
            "Total day for train: 196\n",
            "\n",
            "Data for test: (1176, 9)\n",
            "Total day for test: 49\n"
          ]
        }
      ],
      "source": [
        "def split_sequences(sequences, n_steps_in, n_steps_out):\n",
        "\tX, y = list(), list()\n",
        "\tfor i in range(len(sequences)):\n",
        "\t\tend_ix = i + n_steps_in\n",
        "\t\tout_end_ix = end_ix + n_steps_out\n",
        "\t\tif out_end_ix > len(sequences):\n",
        "\t\t\tbreak\n",
        "\t\tseq_x, seq_y = sequences[i:end_ix, :], sequences[end_ix:out_end_ix, :]\n",
        "\t\tX.append(seq_x)\n",
        "\t\ty.append(seq_y)\n",
        "\treturn array(X), array(y)\n",
        "\n",
        "scaler = MinMaxScaler()\n",
        "df_scaled = scaler.fit_transform(df)\n",
        "\n",
        "total_dataset = len(df)\n",
        "df_train = df_scaled[:int(total_dataset*0.80)]\n",
        "df_test = df_scaled[int(total_dataset*0.80):total_dataset]\n",
        "\n",
        "print('Data for train:', df_train.shape)\n",
        "print('Total day for train:', round(df_train.shape[0]/24))\n",
        "print('\\nData for test:', df_test.shape)\n",
        "print('Total day for test:', round(df_test.shape[0]/24))"
      ]
    },
    {
      "cell_type": "code",
      "execution_count": null,
      "metadata": {
        "colab": {
          "base_uri": "https://localhost:8080/"
        },
        "id": "k5zkNMp4OJbY",
        "outputId": "cac1fa9e-de13-4c98-ffa6-1fbe172362f4"
      },
      "outputs": [
        {
          "name": "stdout",
          "output_type": "stream",
          "text": [
            "Data input structure for training [[0.23635778 0.16938603 0.02052423 0.13234253 0.17475137 0.47245688\n",
            "  0.77966102 0.18604651 0.02352941]\n",
            " [0.23744513 0.17881119 0.01965875 0.09271054 0.15709357 0.47151824\n",
            "  0.79661017 0.15503876 0.05882353]\n",
            " [0.19491764 0.15200285 0.03041543 0.07784855 0.14998985 0.42113856\n",
            "  0.83050847 0.13953488 0.09502262]\n",
            " [0.15239016 0.1251945  0.04117211 0.06298655 0.14268317 0.37075443\n",
            "  0.84745763 0.10852713 0.11764706]\n",
            " [0.1098224  0.09843062 0.05192878 0.04741684 0.13557946 0.32037474\n",
            "  0.84745763 0.10852713 0.11900452]\n",
            " [0.09967379 0.08842751 0.053227   0.05237084 0.12401055 0.30274964\n",
            "  0.81355932 0.10852713 0.10452489]\n",
            " [0.08952519 0.0784244  0.05452522 0.05661713 0.11264461 0.28512454\n",
            "  0.77966102 0.11627907 0.09411765]\n",
            " [0.07937659 0.06846574 0.05588526 0.06086341 0.10107571 0.26750388\n",
            "  0.74576271 0.17829457 0.08597285]\n",
            " [0.07716161 0.06424221 0.0754822  0.07006369 0.09823422 0.2653241\n",
            "  0.62711864 0.24031008 0.08914027]\n",
            " [0.07494664 0.06001867 0.09514095 0.07997169 0.09539273 0.26314876\n",
            "  0.57627119 0.34108527 0.09638009]\n",
            " [0.07273167 0.05579514 0.1147997  0.08917197 0.09275421 0.26096898\n",
            "  0.54237288 0.44186047 0.09276018]\n",
            " [0.05380371 0.04170186 0.14020772 0.07501769 0.07144307 0.23171985\n",
            "  0.49152542 0.51937984 0.09638009]\n",
            " [0.03487576 0.02756413 0.16567755 0.06157113 0.05013193 0.20247517\n",
            "  0.42372881 0.58139535 0.10633484]\n",
            " [0.01594781 0.01347086 0.19108556 0.04741684 0.02861782 0.17322603\n",
            "  0.30508475 0.66666667 0.10542986]\n",
            " [0.01618944 0.0128929  0.18125618 0.05378627 0.03633042 0.17335059\n",
            "  0.27118644 0.71317829 0.09004525]\n",
            " [0.01643107 0.0123594  0.17148863 0.06086341 0.04404303 0.1734707\n",
            "  0.28813559 0.69767442 0.07013575]\n",
            " [0.01671298 0.01178144 0.16165925 0.06723284 0.05155267 0.17359526\n",
            "  0.33898305 0.66666667 0.03846154]\n",
            " [0.03374814 0.02196239 0.13019288 0.0905874  0.0933631  0.20564697\n",
            "  0.49152542 0.6124031  0.0361991 ]\n",
            " [0.0507833  0.03214333 0.09878833 0.11323425 0.13497057 0.23769868\n",
            "  0.59322034 0.41860465 0.07104072]\n",
            " [0.06781845 0.04236874 0.06738378 0.13658882 0.17657804 0.26975484\n",
            "  0.66101695 0.31007752 0.08099548]\n",
            " [0.08843784 0.05535055 0.05582344 0.13871196 0.17820175 0.29009355\n",
            "  0.6440678  0.29457364 0.0678733 ]\n",
            " [0.1090975  0.06837683 0.04420129 0.14012739 0.17962249 0.31043226\n",
            "  0.6779661  0.24031008 0.08823529]\n",
            " [0.12971689 0.0814031  0.03264095 0.14225053 0.18124619 0.33077098\n",
            "  0.71186441 0.20930233 0.10452489]\n",
            " [0.13164995 0.08682701 0.02676805 0.12172682 0.17150396 0.33231017\n",
            "  0.74576271 0.17829457 0.10497738]]\n",
            "\n",
            "Data output structure for validation [[0.07691998 0.06295292 0.12382542 0.07077141 0.10188756 0.23655096\n",
            "  0.61016949 0.34108527 0.14479638]]\n"
          ]
        }
      ],
      "source": [
        "#Memilih angka timestep\n",
        "n_steps_in, n_steps_out = 24,1\n",
        "x_train, y_train = split_sequences(df_train, n_steps_in, n_steps_out)\n",
        "x_test, y_test = split_sequences(df_test, n_steps_in, n_steps_out)\n",
        "n_features = x_train.shape[2]\n",
        "\n",
        "print('Data input structure for training',x_train[0])\n",
        "print('\\nData output structure for validation', y_test[0])"
      ]
    },
    {
      "cell_type": "code",
      "execution_count": null,
      "metadata": {
        "colab": {
          "base_uri": "https://localhost:8080/"
        },
        "id": "771ALU_7OWLZ",
        "outputId": "e14a1a52-7ece-4ab8-8537-348cd714f753"
      },
      "outputs": [
        {
          "name": "stdout",
          "output_type": "stream",
          "text": [
            "Total fitur: 9\n",
            "Total data train: (4680, 24, 9)\n",
            "Total data validasi: (4680, 1, 9)\n",
            "Total data tes: (1152, 24, 9)\n",
            "Total data tes validasi: (1152, 1, 9)\n"
          ]
        }
      ],
      "source": [
        "print('Total fitur:', n_features)\n",
        "print('Total data train:', x_train.shape)\n",
        "print('Total data validasi:', y_train.shape)\n",
        "print('Total data tes:', x_test.shape)\n",
        "print('Total data tes validasi:', y_test.shape)"
      ]
    },
    {
      "cell_type": "code",
      "execution_count": null,
      "metadata": {
        "id": "CgQGUb2G5R_T"
      },
      "outputs": [],
      "source": [
        "tf.keras.backend.clear_session()\n",
        "# define model\n",
        "model = Sequential()\n",
        "model.add(LSTM(100,input_shape=(n_steps_in, n_features)))\n",
        "model.add(RepeatVector(n_steps_out))\n",
        "model.add(LSTM(100, return_sequences=True))\n",
        "model.add(TimeDistributed(Dense(n_features)))"
      ]
    },
    {
      "cell_type": "code",
      "execution_count": null,
      "metadata": {
        "id": "jJLDYEgyQmWB"
      },
      "outputs": [],
      "source": [
        "model.summary()"
      ]
    },
    {
      "cell_type": "code",
      "execution_count": null,
      "metadata": {
        "id": "k32VMR8e3fVQ"
      },
      "outputs": [],
      "source": [
        "# init_weights = model.get_weights()\n",
        "# first_layer_weights = model.layers[0].get_weights()[0]\n",
        "# first_layer_biases = model.layers[0].get_weights()[1]\n",
        "# weight = pd.DataFrame(first_layer_weights)\n",
        "# bias = pd.DataFrame(first_layer_biases)\n",
        "# file_name = \"Weight.xlsx\"\n",
        "# weight.to_excel(file_name, header=True)\n",
        "# file_name = \"Bias.xlsx\"\n",
        "# bias.to_excel(file_name, header=True)"
      ]
    },
    {
      "cell_type": "markdown",
      "metadata": {
        "id": "Ss8O-47fQQcb"
      },
      "source": [
        "Untuk mengambil nilai bias dan bobot parameter pada layer ke 0"
      ]
    },
    {
      "cell_type": "code",
      "execution_count": null,
      "metadata": {
        "colab": {
          "background_save": true,
          "base_uri": "https://localhost:8080/"
        },
        "id": "mw0wDOmPQLTB",
        "outputId": "1176a560-aa3c-406e-fb56-ce0802b1a3af"
      },
      "outputs": [
        {
          "name": "stdout",
          "output_type": "stream",
          "text": [
            "Epoch 1/50\n",
            "147/147 [==============================] - 11s 12ms/step - loss: 0.0184 - mean_absolute_error: 0.0903 - val_loss: 0.0067 - val_mean_absolute_error: 0.0579\n",
            "Epoch 2/50\n",
            "147/147 [==============================] - 1s 7ms/step - loss: 0.0041 - mean_absolute_error: 0.0445 - val_loss: 0.0043 - val_mean_absolute_error: 0.0415\n",
            "Epoch 3/50\n",
            "147/147 [==============================] - 1s 7ms/step - loss: 0.0025 - mean_absolute_error: 0.0341 - val_loss: 0.0040 - val_mean_absolute_error: 0.0372\n",
            "Epoch 4/50\n",
            "147/147 [==============================] - 1s 8ms/step - loss: 0.0020 - mean_absolute_error: 0.0297 - val_loss: 0.0040 - val_mean_absolute_error: 0.0347\n",
            "Epoch 5/50\n",
            "147/147 [==============================] - 1s 10ms/step - loss: 0.0016 - mean_absolute_error: 0.0268 - val_loss: 0.0040 - val_mean_absolute_error: 0.0331\n",
            "Epoch 6/50\n",
            "147/147 [==============================] - 1s 7ms/step - loss: 0.0014 - mean_absolute_error: 0.0251 - val_loss: 0.0042 - val_mean_absolute_error: 0.0330\n",
            "Epoch 7/50\n",
            "147/147 [==============================] - 1s 7ms/step - loss: 0.0013 - mean_absolute_error: 0.0242 - val_loss: 0.0042 - val_mean_absolute_error: 0.0328\n",
            "Epoch 8/50\n",
            "147/147 [==============================] - 1s 7ms/step - loss: 0.0012 - mean_absolute_error: 0.0233 - val_loss: 0.0042 - val_mean_absolute_error: 0.0311\n",
            "Epoch 9/50\n",
            "147/147 [==============================] - 1s 7ms/step - loss: 0.0012 - mean_absolute_error: 0.0225 - val_loss: 0.0044 - val_mean_absolute_error: 0.0326\n",
            "Epoch 10/50\n",
            "147/147 [==============================] - 1s 7ms/step - loss: 0.0011 - mean_absolute_error: 0.0221 - val_loss: 0.0043 - val_mean_absolute_error: 0.0306\n",
            "Epoch 11/50\n",
            "147/147 [==============================] - 1s 7ms/step - loss: 0.0010 - mean_absolute_error: 0.0211 - val_loss: 0.0044 - val_mean_absolute_error: 0.0312\n",
            "Epoch 12/50\n",
            "147/147 [==============================] - 1s 7ms/step - loss: 0.0010 - mean_absolute_error: 0.0208 - val_loss: 0.0042 - val_mean_absolute_error: 0.0304\n",
            "Epoch 13/50\n",
            "147/147 [==============================] - 1s 10ms/step - loss: 9.9343e-04 - mean_absolute_error: 0.0202 - val_loss: 0.0043 - val_mean_absolute_error: 0.0305\n",
            "Epoch 14/50\n",
            "147/147 [==============================] - 2s 11ms/step - loss: 0.0010 - mean_absolute_error: 0.0209 - val_loss: 0.0042 - val_mean_absolute_error: 0.0316\n",
            "Epoch 15/50\n",
            "147/147 [==============================] - 2s 15ms/step - loss: 9.4758e-04 - mean_absolute_error: 0.0197 - val_loss: 0.0044 - val_mean_absolute_error: 0.0315\n",
            "Epoch 16/50\n",
            "147/147 [==============================] - 1s 8ms/step - loss: 9.1974e-04 - mean_absolute_error: 0.0194 - val_loss: 0.0043 - val_mean_absolute_error: 0.0309\n",
            "Epoch 17/50\n",
            "147/147 [==============================] - 1s 7ms/step - loss: 8.9543e-04 - mean_absolute_error: 0.0189 - val_loss: 0.0045 - val_mean_absolute_error: 0.0319\n",
            "Epoch 18/50\n",
            "147/147 [==============================] - 1s 7ms/step - loss: 9.1054e-04 - mean_absolute_error: 0.0193 - val_loss: 0.0043 - val_mean_absolute_error: 0.0294\n",
            "Epoch 19/50\n",
            "147/147 [==============================] - 1s 7ms/step - loss: 8.9665e-04 - mean_absolute_error: 0.0190 - val_loss: 0.0046 - val_mean_absolute_error: 0.0304\n",
            "Epoch 20/50\n",
            "147/147 [==============================] - 1s 7ms/step - loss: 8.8443e-04 - mean_absolute_error: 0.0187 - val_loss: 0.0043 - val_mean_absolute_error: 0.0290\n",
            "Epoch 21/50\n",
            "147/147 [==============================] - 1s 7ms/step - loss: 8.5161e-04 - mean_absolute_error: 0.0183 - val_loss: 0.0043 - val_mean_absolute_error: 0.0303\n",
            "Epoch 22/50\n",
            "147/147 [==============================] - 1s 7ms/step - loss: 8.2275e-04 - mean_absolute_error: 0.0178 - val_loss: 0.0043 - val_mean_absolute_error: 0.0300\n",
            "Epoch 23/50\n",
            "147/147 [==============================] - 1s 7ms/step - loss: 8.3564e-04 - mean_absolute_error: 0.0183 - val_loss: 0.0043 - val_mean_absolute_error: 0.0298\n",
            "Epoch 24/50\n",
            "147/147 [==============================] - 1s 7ms/step - loss: 8.3463e-04 - mean_absolute_error: 0.0180 - val_loss: 0.0044 - val_mean_absolute_error: 0.0298\n",
            "Epoch 25/50\n",
            "147/147 [==============================] - 1s 8ms/step - loss: 8.1655e-04 - mean_absolute_error: 0.0178 - val_loss: 0.0043 - val_mean_absolute_error: 0.0296\n",
            "Epoch 26/50\n",
            "147/147 [==============================] - 1s 9ms/step - loss: 8.1246e-04 - mean_absolute_error: 0.0178 - val_loss: 0.0042 - val_mean_absolute_error: 0.0291\n",
            "Epoch 27/50\n",
            "147/147 [==============================] - 1s 7ms/step - loss: 8.0287e-04 - mean_absolute_error: 0.0175 - val_loss: 0.0044 - val_mean_absolute_error: 0.0303\n",
            "Epoch 28/50\n",
            "147/147 [==============================] - 1s 7ms/step - loss: 7.9311e-04 - mean_absolute_error: 0.0174 - val_loss: 0.0043 - val_mean_absolute_error: 0.0295\n",
            "Epoch 29/50\n",
            "147/147 [==============================] - 1s 7ms/step - loss: 7.9335e-04 - mean_absolute_error: 0.0174 - val_loss: 0.0042 - val_mean_absolute_error: 0.0288\n",
            "Epoch 30/50\n",
            "147/147 [==============================] - 1s 7ms/step - loss: 7.8280e-04 - mean_absolute_error: 0.0173 - val_loss: 0.0043 - val_mean_absolute_error: 0.0295\n",
            "Epoch 31/50\n",
            "147/147 [==============================] - 1s 7ms/step - loss: 7.8743e-04 - mean_absolute_error: 0.0173 - val_loss: 0.0043 - val_mean_absolute_error: 0.0290\n",
            "Epoch 32/50\n",
            "147/147 [==============================] - 1s 7ms/step - loss: 7.9242e-04 - mean_absolute_error: 0.0174 - val_loss: 0.0042 - val_mean_absolute_error: 0.0298\n",
            "Epoch 33/50\n",
            "147/147 [==============================] - 1s 7ms/step - loss: 7.8667e-04 - mean_absolute_error: 0.0173 - val_loss: 0.0043 - val_mean_absolute_error: 0.0297\n",
            "Epoch 34/50\n",
            "147/147 [==============================] - 1s 7ms/step - loss: 7.6562e-04 - mean_absolute_error: 0.0171 - val_loss: 0.0041 - val_mean_absolute_error: 0.0291\n",
            "Epoch 35/50\n",
            "147/147 [==============================] - 1s 7ms/step - loss: 7.6899e-04 - mean_absolute_error: 0.0170 - val_loss: 0.0041 - val_mean_absolute_error: 0.0296\n",
            "Epoch 36/50\n",
            "147/147 [==============================] - 1s 7ms/step - loss: 7.5880e-04 - mean_absolute_error: 0.0169 - val_loss: 0.0042 - val_mean_absolute_error: 0.0286\n",
            "Epoch 37/50\n",
            "147/147 [==============================] - 1s 9ms/step - loss: 7.6037e-04 - mean_absolute_error: 0.0169 - val_loss: 0.0042 - val_mean_absolute_error: 0.0296\n",
            "Epoch 38/50\n",
            "147/147 [==============================] - 1s 8ms/step - loss: 7.4363e-04 - mean_absolute_error: 0.0165 - val_loss: 0.0043 - val_mean_absolute_error: 0.0300\n",
            "Epoch 39/50\n",
            "147/147 [==============================] - 1s 7ms/step - loss: 7.3874e-04 - mean_absolute_error: 0.0166 - val_loss: 0.0041 - val_mean_absolute_error: 0.0303\n",
            "Epoch 40/50\n",
            "147/147 [==============================] - 1s 7ms/step - loss: 7.5268e-04 - mean_absolute_error: 0.0169 - val_loss: 0.0042 - val_mean_absolute_error: 0.0296\n",
            "Epoch 41/50\n",
            "147/147 [==============================] - 1s 7ms/step - loss: 7.3405e-04 - mean_absolute_error: 0.0164 - val_loss: 0.0042 - val_mean_absolute_error: 0.0294\n",
            "Epoch 42/50\n",
            "147/147 [==============================] - 1s 7ms/step - loss: 7.4150e-04 - mean_absolute_error: 0.0167 - val_loss: 0.0041 - val_mean_absolute_error: 0.0289\n",
            "Epoch 43/50\n",
            "147/147 [==============================] - 1s 7ms/step - loss: 7.3767e-04 - mean_absolute_error: 0.0165 - val_loss: 0.0042 - val_mean_absolute_error: 0.0300\n",
            "Epoch 44/50\n",
            "147/147 [==============================] - 1s 7ms/step - loss: 7.3387e-04 - mean_absolute_error: 0.0166 - val_loss: 0.0043 - val_mean_absolute_error: 0.0292\n",
            "Epoch 45/50\n",
            "147/147 [==============================] - 1s 7ms/step - loss: 7.1684e-04 - mean_absolute_error: 0.0162 - val_loss: 0.0043 - val_mean_absolute_error: 0.0300\n",
            "Epoch 46/50\n",
            "147/147 [==============================] - 1s 7ms/step - loss: 7.2097e-04 - mean_absolute_error: 0.0163 - val_loss: 0.0040 - val_mean_absolute_error: 0.0292\n",
            "Epoch 47/50\n",
            "147/147 [==============================] - 1s 7ms/step - loss: 7.3446e-04 - mean_absolute_error: 0.0166 - val_loss: 0.0042 - val_mean_absolute_error: 0.0291\n",
            "Epoch 48/50\n",
            "147/147 [==============================] - 1s 8ms/step - loss: 7.1917e-04 - mean_absolute_error: 0.0162 - val_loss: 0.0042 - val_mean_absolute_error: 0.0294\n",
            "Epoch 49/50\n",
            "147/147 [==============================] - 1s 10ms/step - loss: 7.1446e-04 - mean_absolute_error: 0.0161 - val_loss: 0.0042 - val_mean_absolute_error: 0.0287\n",
            "Epoch 50/50\n",
            "147/147 [==============================] - 1s 7ms/step - loss: 7.0631e-04 - mean_absolute_error: 0.0160 - val_loss: 0.0042 - val_mean_absolute_error: 0.0286\n"
          ]
        }
      ],
      "source": [
        "# fit mode\n",
        "epoch = 50\n",
        "learning_rate = 0.001\n",
        "optimizer = tf.keras.optimizers.Adam(learning_rate=learning_rate)\n",
        "model.compile(optimizer=optimizer, loss='mse',\n",
        "              metrics=[tf.metrics.MeanAbsoluteError()])\n",
        "\n",
        "history = model.fit(x_train, y_train, epochs=epoch, validation_data=(x_test, y_test))\n"
      ]
    },
    {
      "cell_type": "code",
      "execution_count": null,
      "metadata": {
        "colab": {
          "background_save": true
        },
        "id": "R8NIGX9TFaEP",
        "outputId": "a284b3a0-ed0e-4c2e-9855-132831d0609d"
      },
      "outputs": [
        {
          "data": {
            "image/png": "[encoded data removed]",
            "text/plain": [
              "<Figure size 800x400 with 1 Axes>"
            ]
          },
          "metadata": {},
          "output_type": "display_data"
        }
      ],
      "source": [
        "#Loss Curve\n",
        "plt.figure(figsize=(8,4))\n",
        "plt.plot(history.history['loss'], label='Training Loss', color='blue')\n",
        "plt.axis([0, 50, 0.0, 0.0075])\n",
        "plt.title('Model Loss')\n",
        "plt.legend(loc=0)\n",
        "# plt.grid(True)\n",
        "plt.ylabel('Loss')\n",
        "plt.xlabel('Epoch')\n",
        "plt.show();"
      ]
    },
    {
      "cell_type": "code",
      "execution_count": null,
      "metadata": {
        "id": "xIhogf0ztz9H"
      },
      "outputs": [],
      "source": [
        "predictions = model.predict(x_test)\n",
        "print(predictions.shape)\n",
        "print(y_test.shape)"
      ]
    },
    {
      "cell_type": "code",
      "execution_count": null,
      "metadata": {
        "id": "hrPQ2zsouNtr"
      },
      "outputs": [],
      "source": [
        "#reshape\n",
        "predictions = np.reshape(predictions, (1152*1, 9))\n",
        "real = np.reshape(y_test, (1152*1, 9))\n",
        "\n",
        "# rescale\n",
        "predictions = pd.DataFrame(predictions)\n",
        "predictions = scaler.inverse_transform(predictions)\n",
        "predictions = pd.DataFrame(predictions)\n",
        "predictions = predictions.rename(columns={0: \"pm10\", 1: \"pm25\",\n",
        "                                          2: \"o3\", 3: \"so2\",\n",
        "                                          4: \"no2\", 5: \"co\", 6:\"rh\",7:\"temp\",8:\"wind_spd\"})\n",
        "\n",
        "real = pd.DataFrame(real)\n",
        "real = scaler.inverse_transform(real)\n",
        "real = pd.DataFrame(real)\n",
        "\n",
        "print(predictions.shape)\n",
        "print(real.shape)"
      ]
    },
    {
      "cell_type": "code",
      "execution_count": null,
      "metadata": {
        "id": "CUDQoqwM3L6o"
      },
      "outputs": [],
      "source": [
        "predictions"
      ]
    },
    {
      "cell_type": "code",
      "execution_count": null,
      "metadata": {
        "id": "8Cl2ZzbyILed"
      },
      "outputs": [],
      "source": [
        "df_t = df_time[int(len(df)*0.8) : ]\n",
        "df_t1 = df_t[4:]\n",
        "df_final = pd.DataFrame()\n",
        "\n",
        "indicators = ['pm10_lstm', 'pm25_lstm','o3_lstm', 'so2_lstm', 'no2_lstm','co_lstm','rh_lstm','temp_lstm','wind_spd_lstm']\n",
        "m=-1\n",
        "for i in indicator:\n",
        "  m=m+1\n",
        "  df_final[i] = real[m]\n",
        "  df_final[indicators[m]] = predictions[i]\n",
        "\n",
        "df_final[\"datetime\"] = df_final.pm10\n",
        "for i in range(0,len(df_final)):\n",
        "   df_final.datetime.iloc[i] = df_t1.iloc[i]\n",
        "df_final = df_final.set_index('datetime')\n",
        "df_final"
      ]
    },
    {
      "cell_type": "code",
      "execution_count": null,
      "metadata": {
        "id": "cBh-Wpo0xisX"
      },
      "outputs": [],
      "source": [
        "fig, axes = plt.subplots(3,3)\n",
        "fig = mpl.pyplot.gcf()\n",
        "mpl.rcParams['axes.grid'] = False\n",
        "plt.figure(figsize=(9,3))\n",
        "plt.rcParams.update({\n",
        "        \"font.size\": 13,})\n",
        "\n",
        "df_final[['pm10', 'pm10_lstm']].plot(ax=axes[0,0])\n",
        "df_final[['pm25', 'pm25_lstm']].plot(ax=axes[0,1])\n",
        "df_final[['o3', 'o3_lstm']].plot(ax=axes[0,2])\n",
        "df_final[['so2', 'so2_lstm']].plot(ax=axes[1,0])\n",
        "df_final[['no2', 'no2_lstm']].plot(ax=axes[1,1])\n",
        "df_final[['co', 'co_lstm']].plot(ax=axes[1,2])\n",
        "df_final[['rh', 'rh_lstm']].plot(ax=axes[2,0])\n",
        "df_final[['temp', 'temp_lstm']].plot(ax=axes[2,1])\n",
        "df_final[['wind_spd', 'wind_spd_lstm']].plot(ax=axes[2,2])\n",
        "plt.show()"
      ]
    },
    {
      "cell_type": "code",
      "execution_count": null,
      "metadata": {
        "id": "AvpCW3X4xnHZ"
      },
      "outputs": [],
      "source": [
        "for i in indicator:\n",
        "  rmse = mean_squared_error(df_final[f'{i}'],df_final[f'{i}_lstm'], squared=False)\n",
        "  mse = mean_squared_error(df_final[f'{i}'],df_final[f'{i}_lstm'])\n",
        "  mae = mean_absolute_error(df_final[f'{i}'], df_final[f'{i}_lstm'])\n",
        "  mape = mean_absolute_percentage_error(df_final[f'{i}'], df_final[f'{i}_lstm'])\n",
        "  print(f'{i} ----> RMSE: {rmse} ; MSE: {mse} ; MAE: {mae} ; MAPE: {mape}\\n')\n",
        "# # print('-----'*23)'"
      ]
    },
    {
      "cell_type": "code",
      "execution_count": null,
      "metadata": {
        "id": "IG9gjeMVLZNm"
      },
      "outputs": [],
      "source": [
        "plot_cols = ['ISPU_pm10','ISPU_pm25','ISPU_o3','ISPU_so2','ISPU_no2','ISPU_co','ISPU']\n",
        "for i in plot_cols:\n",
        "  predictions[i] = predictions.pm10"
      ]
    },
    {
      "cell_type": "code",
      "execution_count": null,
      "metadata": {
        "id": "Tzo6v3qsIAI0"
      },
      "outputs": [],
      "source": [
        "def ConvertPM10(predictions):\n",
        "    for i in range(0, len(predictions)):\n",
        "      q1 = predictions.pm10.iloc[i] #pm10\n",
        "      if q1 > 420:\n",
        "        k, t , r = (q1 - 420),(500 - 420), (400 - 300)\n",
        "        ISPU_pm10 = (r*k/t) + 300\n",
        "      elif 350 < q1 <= 420:\n",
        "        k, t , r = (q1 - 350),(420 - 350), (300 - 200)\n",
        "        ISPU_pm10 = (r*k/t) + 200\n",
        "      elif 150 < q1 <= 350:\n",
        "        k, t , r = (q1 - 150),(350 - 150), (200 - 100)\n",
        "        ISPU_pm10 = (r*k/t) + 100\n",
        "      else :\n",
        "        k, t , r = (q1 - 50),(150 - 50), (100 - 50)\n",
        "        ISPU_pm10 = (r*k/t) + 50\n",
        "      predictions.ISPU_pm10.iloc[i] = round(ISPU_pm10)\n",
        "\n",
        "def ConvertPM25(predictions):\n",
        "    for i in range(0, len(predictions)):\n",
        "      q2 = predictions.pm25.iloc[i] #pm2,5\n",
        "      if q2 > 250.4:\n",
        "        k, t , r = (q2 - 250.4),(500 - 250.4), (400 - 300)\n",
        "        ISPU_pm25 = (r*k/t) + 300\n",
        "      elif 150.4 < q2 <= 250.4:\n",
        "        k, t , r = (q2 - 150.4),(250.4 - 150.4), (300 - 200)\n",
        "        ISPU_pm25 = (r*k/t) + 200\n",
        "      elif 55.4 < q2 <= 150.4:\n",
        "        k, t , r = (q2 - 55.4),(150.4 - 55.4), (200 - 100)\n",
        "        ISPU_pm25 = (r*k/t) + 100\n",
        "      else :\n",
        "        k, t , r = (q2 - 15.5),(55.4 - 15.5), (100 - 50)\n",
        "        ISPU_pm25 = (r*k/t) + 50\n",
        "      predictions.ISPU_pm25.iloc[i] = round(ISPU_pm25)\n",
        "\n",
        "def ConvertO3(predictions):\n",
        "    for i in range(0, len(predictions)):\n",
        "      q3 = predictions.o3.iloc[i] #o3\n",
        "      if q3 > 800:\n",
        "        k, t , r = (q3 - 800),(1000 - 800), (400 - 300)\n",
        "        ISPU_o3 = (r*k/t) + 300\n",
        "      elif 400 < q3 <= 800:\n",
        "        k, t , r = (q3 - 400),(800 - 400), (300 - 200)\n",
        "        ISPU_o3 = (r*k/t) + 200\n",
        "      elif 235 < q3 <= 400:\n",
        "        k, t , r = (q3 - 235),(400 - 235), (200 - 100)\n",
        "        ISPU_o3 = (r*k/t) + 100\n",
        "      else :\n",
        "        k, t , r = (q3 - 120),(235 - 120), (100 - 50)\n",
        "        ISPU_o3 = (r*k/t) + 50\n",
        "      predictions.ISPU_o3.iloc[i] = round(ISPU_o3)\n",
        "\n",
        "def ConvertSO2(predictions):\n",
        "    for i in range(0, len(predictions)):\n",
        "      q4 = predictions.so2.iloc[i] #so2\n",
        "      if q4 > 800:\n",
        "        k, t , r = (q4 - 800),(1200 - 800), (400 - 300)\n",
        "        ISPU_so2 = (r*k/t) + 300\n",
        "      elif 400< q4 <= 800:\n",
        "        k, t , r = (q4 - 400),(800 - 400), (300 - 200)\n",
        "        ISPU_so2 = (r*k/t) + 200\n",
        "      elif 180 < q4 <= 400:\n",
        "        k, t , r = (q4 - 180),(400 - 180), (200 - 100)\n",
        "        ISPU_so2 = (r*k/t) + 100\n",
        "      else :\n",
        "        k, t , r = (q4 - 52),(180 - 52), (100 - 50)\n",
        "        ISPU_so2 = (r*k/t) + 50\n",
        "      predictions.ISPU_so2.iloc[i] = round(ISPU_so2)\n",
        "\n",
        "def ConvertNO2(predictions):\n",
        "    for i in range(0, len(predictions)):\n",
        "      q5 = predictions.no2.iloc[i] #no2\n",
        "      if q5 > 2260 :\n",
        "        k, t , r = (q5 - 2260),(3000 - 2260), (400 - 300)\n",
        "        ISPU_no2 = (r*k/t) + 300\n",
        "      elif 1130 < q5 <= 2260 :\n",
        "        k, t , r = (q5 - 1130),(2260 - 1130), (300 - 200)\n",
        "        ISPU_no2 = (r*k/t) + 200\n",
        "      elif 200 < q5 <= 1130 :\n",
        "        k, t , r = (q5 - 200),(1130 - 200), (200 - 100)\n",
        "        ISPU_no2 = (r*k/t) + 100\n",
        "      else:\n",
        "        k, t , r = (q5 - 80),(235 - 80), (100 - 50)\n",
        "        ISPU_no2 = (r*k/t) + 50\n",
        "      predictions.ISPU_no2.iloc[i] = round(ISPU_no2)\n",
        "\n",
        "def ConvertNO2(predictions):\n",
        "    for i in range(0, len(predictions)):\n",
        "      q5 = predictions.no2.iloc[i] #no2\n",
        "      if q5 > 2260 :\n",
        "        k, t , r = (q5 - 2260),(3000 - 2260), (400 - 300)\n",
        "        ISPU_no2 = (r*k/t) + 300\n",
        "      elif 1130 < q5 <= 2260 :\n",
        "        k, t , r = (q5 - 1130),(2260 - 1130), (300 - 200)\n",
        "        ISPU_no2 = (r*k/t) + 200\n",
        "      elif 200 < q5 <= 1130 :\n",
        "        k, t , r = (q5 - 200),(1130 - 200), (200 - 100)\n",
        "        ISPU_no2 = (r*k/t) + 100\n",
        "      else:\n",
        "        k, t , r = (q5 - 80),(235 - 80), (100 - 50)\n",
        "        ISPU_no2 = (r*k/t) + 50\n",
        "      predictions.ISPU_no2.iloc[i] = round(ISPU_no2)\n",
        "\n",
        "def ConvertCO(predictions):\n",
        "    for i in range(0, len(predictions)):\n",
        "      q6 = predictions.co.iloc[i] #co\n",
        "      if q6 > 30000 :\n",
        "        k, t , r = (q6 - 30000),(45000 - 30000), (400 - 300)\n",
        "        ISPU_co = (r*k/t) + 300\n",
        "      elif 15000 < q6 <= 30000 :\n",
        "        k, t , r = (q6 - 15000),(30000 - 15000), (300 - 200)\n",
        "        ISPU_co = (r*k/t) + 200\n",
        "      elif 8000 < q6 <= 15000 :\n",
        "        k, t , r = (q6 - 8000),(15000 - 8000), (200 - 100)\n",
        "        ISPU_co = (r*k/t) + 100\n",
        "      else :\n",
        "        k, t , r = (q6 - 4000),(8000 - 4000), (100 - 50)\n",
        "        ISPU_co = (r*k/t) + 50\n",
        "      predictions.ISPU_co.iloc[i] = round(ISPU_co)"
      ]
    },
    {
      "cell_type": "code",
      "execution_count": null,
      "metadata": {
        "id": "sKeb_fj0N0k3"
      },
      "outputs": [],
      "source": [
        "ConvertPM10(predictions)\n",
        "ConvertPM25(predictions)\n",
        "ConvertO3(predictions)\n",
        "ConvertSO2(predictions)\n",
        "ConvertNO2(predictions)\n",
        "ConvertCO(predictions)"
      ]
    },
    {
      "cell_type": "code",
      "execution_count": null,
      "metadata": {
        "id": "ks5yb6qiLwCB"
      },
      "outputs": [],
      "source": [
        "dp = predictions[plot_cols]\n",
        "for i in range(0,len(dp)):\n",
        "  dp.ISPU.iloc[i] = 0\n",
        "\n",
        "def ConvertISPU(dp):\n",
        "  for i in range(0, len(dp)):\n",
        "      maximum = dp.iloc[i].max()\n",
        "      q1 = dp.ISPU_pm10.iloc[i] #pm10\n",
        "      q2 = dp.ISPU_pm25.iloc[i] #pm2,5\n",
        "      q3 = dp.ISPU_o3.iloc[i] #o3\n",
        "      q4 = dp.ISPU_so2.iloc[i] #so2\n",
        "      q5 = dp.ISPU_no2.iloc[i] #no2\n",
        "      q6 = dp.ISPU_co.iloc[i]\n",
        "      if maximum == q1:\n",
        "        dp.ISPU.iloc[i] = q1\n",
        "      elif maximum == q2 :\n",
        "        dp.ISPU.iloc[i] = q2\n",
        "      elif maximum == q3 :\n",
        "        dp.ISPU.iloc[i] = q3\n",
        "      elif maximum == q4 :\n",
        "        dp.ISPU.iloc[i] = q4\n",
        "      elif maximum == q5 :\n",
        "        dp.ISPU.iloc[i] = q5\n",
        "      else :\n",
        "        dp.ISPU.iloc[i] = q6\n",
        "  return dp"
      ]
    },
    {
      "cell_type": "code",
      "execution_count": null,
      "metadata": {
        "id": "f-jJc60_LklF"
      },
      "outputs": [],
      "source": [
        "ConvertISPU(dp)\n",
        "\n",
        "real = real.rename(columns={0: \"pm10\", 1: \"pm25\",\n",
        "                                          2: \"o3\", 3: \"so2\",\n",
        "                                          4: \"no2\", 5: \"co\"})\n",
        "for i in plot_cols :\n",
        "  real[i] = real.pm10\n",
        "\n",
        "ConvertPM10(real)\n",
        "ConvertPM25(real)\n",
        "ConvertO3(real)\n",
        "ConvertSO2(real)\n",
        "ConvertNO2(real)\n",
        "ConvertCO(real)"
      ]
    },
    {
      "cell_type": "code",
      "execution_count": null,
      "metadata": {
        "id": "4rhPFBw87QEI"
      },
      "outputs": [],
      "source": [
        "real"
      ]
    },
    {
      "cell_type": "code",
      "execution_count": null,
      "metadata": {
        "id": "GK5aF5UCU_Qg"
      },
      "outputs": [],
      "source": [
        "plot_cols = ['ISPU_pm10','ISPU_pm25','ISPU_o3','ISPU_so2','ISPU_no2','ISPU_co','ISPU']\n",
        "ds = real[plot_cols]\n",
        "for i in range(0,len(ds)):\n",
        "  ds.ISPU.iloc[i] = 0"
      ]
    },
    {
      "cell_type": "code",
      "execution_count": null,
      "metadata": {
        "id": "TNjYe4ur7N6U"
      },
      "outputs": [],
      "source": [
        "ConvertISPU(ds)"
      ]
    },
    {
      "cell_type": "code",
      "execution_count": null,
      "metadata": {
        "id": "lz1uayqMNE4L"
      },
      "outputs": [],
      "source": [
        "df_ISPU = pd.DataFrame()\n",
        "df_ISPU[\"datetime\"] = dp.ISPU\n",
        "df_ISPU[\"ISPU_asli\"] = ds.ISPU\n",
        "df_ISPU[\"ISPU_pred\"] = dp.ISPU\n",
        "df_ISPU"
      ]
    },
    {
      "cell_type": "code",
      "execution_count": null,
      "metadata": {
        "id": "8fwvHzg_NyXk"
      },
      "outputs": [],
      "source": [
        "for i in range(0,len(df_ISPU)):\n",
        "   df_ISPU.datetime.iloc[i] = df_t1.iloc[i]\n",
        "df_ISPU = df_ISPU.set_index('datetime')\n",
        "df_ISPU[\"residu\"] = abs(df_ISPU['ISPU_asli'] - df_ISPU['ISPU_pred'])"
      ]
    },
    {
      "cell_type": "code",
      "execution_count": null,
      "metadata": {
        "id": "rLbmwnPldpGE"
      },
      "outputs": [],
      "source": [
        "mpl.rcParams.update(mpl.rcParamsDefault)\n",
        "plt.figure(figsize=(12,4))\n",
        "plt.plot(df_ISPU[\"ISPU_asli\"], label='Nilai ISPU', color='orange')\n",
        "plt.plot(df_ISPU[\"ISPU_pred\"], label='Nilai ISPU LSTM', color='blue')\n",
        "plt.plot(df_ISPU[\"residu\"], label='Residu', color='green')\n",
        "plt.axhline(y = 101, color = 'r', linestyle = 'dashed', label = 'Batas Nilai Sehat')\n",
        "plt.title('Nilai Prediksi ISPU Bandar Lampung')\n",
        "plt.legend(loc=0)\n",
        "plt.ylabel('ISPU')\n",
        "plt.xlabel('Date')\n",
        "plt.show();"
      ]
    },
    {
      "cell_type": "code",
      "execution_count": null,
      "metadata": {
        "id": "fZQms1vMtl9g"
      },
      "outputs": [],
      "source": [
        "rmse = np.sqrt(mean_squared_error(df_ISPU['ISPU_asli'],df_ISPU['ISPU_pred']))\n",
        "print(rmse)"
      ]
    },
    {
      "cell_type": "markdown",
      "metadata": {
        "id": "Iw2l_K17vIEp"
      },
      "source": [
        "# Save Model"
      ]
    },
    {
      "cell_type": "code",
      "execution_count": null,
      "metadata": {
        "id": "ZAOHScdcdtR_"
      },
      "outputs": [],
      "source": [
        "model.save_weights('./checkpoints/my_checkpoint')"
      ]
    },
    {
      "cell_type": "code",
      "execution_count": null,
      "metadata": {
        "id": "ZDWkRN-Usixs"
      },
      "outputs": [],
      "source": [
        "!mkdir -p saved_model\n",
        "model.save('saved_model/my_model')\n",
        "model.save('model_fix_weather.h5')"
      ]
    }
  ],
  "metadata": {
    "accelerator": "GPU",
    "colab": {
      "provenance": [],
      "include_colab_link": true
    },
    "kernelspec": {
      "display_name": "Python 3",
      "name": "python3"
    },
    "language_info": {
      "name": "python"
    }
  },
  "nbformat": 4,
  "nbformat_minor": 0
}